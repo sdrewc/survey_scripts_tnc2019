{
 "cells": [
  {
   "cell_type": "code",
   "execution_count": null,
   "metadata": {},
   "outputs": [],
   "source": [
    "from pathlib import Path\n",
    "\n",
    "import polars as pl\n"
   ]
  },
  {
   "cell_type": "code",
   "execution_count": null,
   "metadata": {},
   "outputs": [],
   "source": [
    "def compare_columns(codebook_var_list_df, csv_df, table_name):\n",
    "    columns_codebook = set(\n",
    "        codebook_var_list_df.filter(pl.col(table_name) == 1).get_column(\"variable\")\n",
    "    )\n",
    "    columns_csv = set(csv_df.columns)\n",
    "    print(f\"set differences for {table_name}:\")\n",
    "    print(f\"columns_codebook - columns_csv: {columns_codebook - columns_csv}\")\n",
    "    print(f\"columns_csv - columns_codebook: {columns_csv - columns_codebook}\")\n"
   ]
  },
  {
   "cell_type": "code",
   "execution_count": null,
   "metadata": {},
   "outputs": [],
   "source": [
    "survey_data_dir = Path(\n",
    "    r\"Q:\\Data\\Surveys\\HouseholdSurveys\\MTC-SFCTA2022\"\n",
    "    r\"\\Deliverable_20240329\\BATS Unweighted Dataset\"\n",
    ")\n",
    "codebook_var_list_df = pl.read_excel(\n",
    "    survey_data_dir / \"mtc_hts_codebook.xlsx\", sheet_name=\"variable_list\"\n",
    ")\n",
    "hh = pl.read_csv(survey_data_dir / \"hh.csv\")\n",
    "person = pl.read_csv(survey_data_dir / \"person.csv\")\n",
    "vehicle = pl.read_csv(survey_data_dir / \"vehicle.csv\")\n",
    "day = pl.read_csv(survey_data_dir / \"day.csv\")\n",
    "trip = pl.read_csv(survey_data_dir / \"trip.csv\")\n",
    "location = pl.read_csv(survey_data_dir / \"location.csv\")\n"
   ]
  },
  {
   "cell_type": "code",
   "execution_count": null,
   "metadata": {},
   "outputs": [],
   "source": [
    "compare_columns(codebook_var_list_df, hh, \"hh\")\n",
    "compare_columns(codebook_var_list_df, person, \"person\")\n",
    "compare_columns(codebook_var_list_df, vehicle, \"vehicle\")\n",
    "compare_columns(codebook_var_list_df, day, \"day\")\n",
    "compare_columns(codebook_var_list_df, trip, \"trip\")\n",
    "compare_columns(codebook_var_list_df, location, \"location\")\n"
   ]
  }
 ],
 "metadata": {
  "kernelspec": {
   "display_name": "py312",
   "language": "python",
   "name": "python3"
  },
  "language_info": {
   "codemirror_mode": {
    "name": "ipython",
    "version": 3
   },
   "file_extension": ".py",
   "mimetype": "text/x-python",
   "name": "python",
   "nbconvert_exporter": "python",
   "pygments_lexer": "ipython3",
   "version": "3.12.3"
  }
 },
 "nbformat": 4,
 "nbformat_minor": 2
}
